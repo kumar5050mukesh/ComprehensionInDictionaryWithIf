{
 "cells": [
  {
   "cell_type": "code",
   "execution_count": 1,
   "id": "7c8e59e7-93fc-499e-84d9-fb23a4cd891a",
   "metadata": {},
   "outputs": [],
   "source": [
    "sony_xperia={'phone':'sony','year':2000,'country':'france'}\n"
   ]
  },
  {
   "cell_type": "code",
   "execution_count": 9,
   "id": "e1b1e45f-5c0c-4678-9b24-f9ef56f035bb",
   "metadata": {},
   "outputs": [
    {
     "data": {
      "text/plain": [
       "{'year': 2000}"
      ]
     },
     "execution_count": 9,
     "metadata": {},
     "output_type": "execute_result"
    }
   ],
   "source": [
    "{muk:ank for muk,ank in sony_xperia.items()if muk=='year' }"
   ]
  },
  {
   "cell_type": "code",
   "execution_count": null,
   "id": "ece1eadb-762d-49c6-a8b8-2996b2faa64d",
   "metadata": {},
   "outputs": [],
   "source": []
  }
 ],
 "metadata": {
  "kernelspec": {
   "display_name": "Python 3 (ipykernel)",
   "language": "python",
   "name": "python3"
  },
  "language_info": {
   "codemirror_mode": {
    "name": "ipython",
    "version": 3
   },
   "file_extension": ".py",
   "mimetype": "text/x-python",
   "name": "python",
   "nbconvert_exporter": "python",
   "pygments_lexer": "ipython3",
   "version": "3.10.8"
  }
 },
 "nbformat": 4,
 "nbformat_minor": 5
}
